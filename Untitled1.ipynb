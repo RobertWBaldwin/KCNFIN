{
  "nbformat": 4,
  "nbformat_minor": 0,
  "metadata": {
    "colab": {
      "name": "Untitled1.ipynb",
      "provenance": [],
      "authorship_tag": "ABX9TyNs+gg6wWFHDQ32173/ALO2",
      "include_colab_link": true
    },
    "kernelspec": {
      "name": "python3",
      "display_name": "Python 3"
    }
  },
  "cells": [
    {
      "cell_type": "markdown",
      "metadata": {
        "id": "view-in-github",
        "colab_type": "text"
      },
      "source": [
        "<a href=\"https://colab.research.google.com/github/RobertWBaldwin/KCNFIN/blob/master/Untitled1.ipynb\" target=\"_parent\"><img src=\"https://colab.research.google.com/assets/colab-badge.svg\" alt=\"Open In Colab\"/></a>"
      ]
    },
    {
      "cell_type": "code",
      "metadata": {
        "id": "sdKQNCBKT2BP",
        "colab_type": "code",
        "colab": {
          "base_uri": "https://localhost:8080/",
          "height": 129
        },
        "outputId": "e0be3cd7-a5f6-4535-e51a-1ef89668f5af"
      },
      "source": [
        "class Angiosperm\n",
        "  def _init_(self, family, genera, species, water=None, sun=None, pH=None):\n",
        "    self.family = family\n",
        "    self.genera = genera\n",
        "    self.species = species\n",
        "    self.water = water\n",
        "    self.sun = sun\n",
        "    self.pH = pH\n",
        "\n",
        "obs_a = Angiosperm('Rubaciae', 'Cephalanthus', 'occidentalis')\n",
        "print(obs_a.family)"
      ],
      "execution_count": 3,
      "outputs": [
        {
          "output_type": "error",
          "ename": "SyntaxError",
          "evalue": "ignored",
          "traceback": [
            "\u001b[0;36m  File \u001b[0;32m\"<ipython-input-3-2c2571c0f637>\"\u001b[0;36m, line \u001b[0;32m1\u001b[0m\n\u001b[0;31m    class Angiosperm\u001b[0m\n\u001b[0m                    ^\u001b[0m\n\u001b[0;31mSyntaxError\u001b[0m\u001b[0;31m:\u001b[0m invalid syntax\n"
          ]
        }
      ]
    }
  ]
}